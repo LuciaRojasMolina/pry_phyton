{
  "nbformat": 4,
  "nbformat_minor": 0,
  "metadata": {
    "colab": {
      "name": "Proyecto N1.ipynb",
      "provenance": [],
      "collapsed_sections": [],
      "authorship_tag": "ABX9TyMlzc0KiwvpptdRzne3qFPf",
      "include_colab_link": true
    },
    "kernelspec": {
      "name": "python3",
      "display_name": "Python 3"
    },
    "language_info": {
      "name": "python"
    }
  },
  "cells": [
    {
      "cell_type": "markdown",
      "metadata": {
        "id": "view-in-github",
        "colab_type": "text"
      },
      "source": [
        "<a href=\"https://colab.research.google.com/github/LuciaRojasMolina/pry_phyton/blob/main/Proyecto_N1.ipynb\" target=\"_parent\"><img src=\"https://colab.research.google.com/assets/colab-badge.svg\" alt=\"Open In Colab\"/></a>"
      ]
    },
    {
      "cell_type": "markdown",
      "source": [
        "#DATA & ANALYTICS - PYTHON\n",
        "----------------------------\n",
        "PROYECTO N°1 .  \n",
        "\n",
        "Nombre: Lucía Natalia Rojas Molina\n",
        "\n",
        "E-mail: lucinatalia0209@gmail.com"
      ],
      "metadata": {
        "id": "TrIcF2achzFs"
      }
    },
    {
      "cell_type": "markdown",
      "source": [
        "#Ejercicio N°1:\n",
        "Escribir un programa que pregunte al usuario o genere las ventas\n",
        "de los últimos 5 días, y muestre por pantalla una serie (Dataframe)\n",
        "con los datos de las ventas por producto (opcional): Nro de\n",
        "unidades y precio unitario, indexada por los días, antes y después\n",
        "de aplicarles un descuento del 5%.\n",
        "(Diversas opciones de solución: libre)"
      ],
      "metadata": {
        "id": "36Cq7NtjiSIW"
      }
    },
    {
      "cell_type": "code",
      "source": [
        "# Importando librerías\n",
        "import pandas as pd\n"
      ],
      "metadata": {
        "id": "qSKCwMqOiv1j"
      },
      "execution_count": null,
      "outputs": []
    },
    {
      "cell_type": "code",
      "source": [
        "df = pd.DataFrame({'Productos': ['Teclado', 'Mouse', 'Esferos', 'Cuadernos', 'Impresora'],\n",
        "                  'Cantidad':[1,3,4,4,1],\n",
        "                  'Precio':[18,10,0.50,1,150]},\n",
        "                  index=['Dia1_Venta1', 'Dia2_Venta2', 'Dia3_Venta3', 'Dia4_Venta4', 'Dia5_Venta5'])\n",
        "\n",
        "df\n",
        "\n",
        "df.assign(Total=lambda x: x.Cantidad * x.Precio, Total_Descuento=lambda y: y.Total - (y.Total * 0.05))"
      ],
      "metadata": {
        "colab": {
          "base_uri": "https://localhost:8080/",
          "height": 206
        },
        "id": "R26wTVIRoTDi",
        "outputId": "1be32005-0f81-4350-c349-f1b3897923e8"
      },
      "execution_count": null,
      "outputs": [
        {
          "output_type": "execute_result",
          "data": {
            "text/plain": [
              "             Productos  Cantidad  Precio  Total  Total_Descuento\n",
              "Dia1_Venta1    Teclado         1    18.0   18.0             17.1\n",
              "Dia2_Venta2      Mouse         3    10.0   30.0             28.5\n",
              "Dia3_Venta3    Esferos         4     0.5    2.0              1.9\n",
              "Dia4_Venta4  Cuadernos         4     1.0    4.0              3.8\n",
              "Dia5_Venta5  Impresora         1   150.0  150.0            142.5"
            ],
            "text/html": [
              "\n",
              "  <div id=\"df-e86ea3ac-49cf-4f53-8bfc-ad958daec3f5\">\n",
              "    <div class=\"colab-df-container\">\n",
              "      <div>\n",
              "<style scoped>\n",
              "    .dataframe tbody tr th:only-of-type {\n",
              "        vertical-align: middle;\n",
              "    }\n",
              "\n",
              "    .dataframe tbody tr th {\n",
              "        vertical-align: top;\n",
              "    }\n",
              "\n",
              "    .dataframe thead th {\n",
              "        text-align: right;\n",
              "    }\n",
              "</style>\n",
              "<table border=\"1\" class=\"dataframe\">\n",
              "  <thead>\n",
              "    <tr style=\"text-align: right;\">\n",
              "      <th></th>\n",
              "      <th>Productos</th>\n",
              "      <th>Cantidad</th>\n",
              "      <th>Precio</th>\n",
              "      <th>Total</th>\n",
              "      <th>Total_Descuento</th>\n",
              "    </tr>\n",
              "  </thead>\n",
              "  <tbody>\n",
              "    <tr>\n",
              "      <th>Dia1_Venta1</th>\n",
              "      <td>Teclado</td>\n",
              "      <td>1</td>\n",
              "      <td>18.0</td>\n",
              "      <td>18.0</td>\n",
              "      <td>17.1</td>\n",
              "    </tr>\n",
              "    <tr>\n",
              "      <th>Dia2_Venta2</th>\n",
              "      <td>Mouse</td>\n",
              "      <td>3</td>\n",
              "      <td>10.0</td>\n",
              "      <td>30.0</td>\n",
              "      <td>28.5</td>\n",
              "    </tr>\n",
              "    <tr>\n",
              "      <th>Dia3_Venta3</th>\n",
              "      <td>Esferos</td>\n",
              "      <td>4</td>\n",
              "      <td>0.5</td>\n",
              "      <td>2.0</td>\n",
              "      <td>1.9</td>\n",
              "    </tr>\n",
              "    <tr>\n",
              "      <th>Dia4_Venta4</th>\n",
              "      <td>Cuadernos</td>\n",
              "      <td>4</td>\n",
              "      <td>1.0</td>\n",
              "      <td>4.0</td>\n",
              "      <td>3.8</td>\n",
              "    </tr>\n",
              "    <tr>\n",
              "      <th>Dia5_Venta5</th>\n",
              "      <td>Impresora</td>\n",
              "      <td>1</td>\n",
              "      <td>150.0</td>\n",
              "      <td>150.0</td>\n",
              "      <td>142.5</td>\n",
              "    </tr>\n",
              "  </tbody>\n",
              "</table>\n",
              "</div>\n",
              "      <button class=\"colab-df-convert\" onclick=\"convertToInteractive('df-e86ea3ac-49cf-4f53-8bfc-ad958daec3f5')\"\n",
              "              title=\"Convert this dataframe to an interactive table.\"\n",
              "              style=\"display:none;\">\n",
              "        \n",
              "  <svg xmlns=\"http://www.w3.org/2000/svg\" height=\"24px\"viewBox=\"0 0 24 24\"\n",
              "       width=\"24px\">\n",
              "    <path d=\"M0 0h24v24H0V0z\" fill=\"none\"/>\n",
              "    <path d=\"M18.56 5.44l.94 2.06.94-2.06 2.06-.94-2.06-.94-.94-2.06-.94 2.06-2.06.94zm-11 1L8.5 8.5l.94-2.06 2.06-.94-2.06-.94L8.5 2.5l-.94 2.06-2.06.94zm10 10l.94 2.06.94-2.06 2.06-.94-2.06-.94-.94-2.06-.94 2.06-2.06.94z\"/><path d=\"M17.41 7.96l-1.37-1.37c-.4-.4-.92-.59-1.43-.59-.52 0-1.04.2-1.43.59L10.3 9.45l-7.72 7.72c-.78.78-.78 2.05 0 2.83L4 21.41c.39.39.9.59 1.41.59.51 0 1.02-.2 1.41-.59l7.78-7.78 2.81-2.81c.8-.78.8-2.07 0-2.86zM5.41 20L4 18.59l7.72-7.72 1.47 1.35L5.41 20z\"/>\n",
              "  </svg>\n",
              "      </button>\n",
              "      \n",
              "  <style>\n",
              "    .colab-df-container {\n",
              "      display:flex;\n",
              "      flex-wrap:wrap;\n",
              "      gap: 12px;\n",
              "    }\n",
              "\n",
              "    .colab-df-convert {\n",
              "      background-color: #E8F0FE;\n",
              "      border: none;\n",
              "      border-radius: 50%;\n",
              "      cursor: pointer;\n",
              "      display: none;\n",
              "      fill: #1967D2;\n",
              "      height: 32px;\n",
              "      padding: 0 0 0 0;\n",
              "      width: 32px;\n",
              "    }\n",
              "\n",
              "    .colab-df-convert:hover {\n",
              "      background-color: #E2EBFA;\n",
              "      box-shadow: 0px 1px 2px rgba(60, 64, 67, 0.3), 0px 1px 3px 1px rgba(60, 64, 67, 0.15);\n",
              "      fill: #174EA6;\n",
              "    }\n",
              "\n",
              "    [theme=dark] .colab-df-convert {\n",
              "      background-color: #3B4455;\n",
              "      fill: #D2E3FC;\n",
              "    }\n",
              "\n",
              "    [theme=dark] .colab-df-convert:hover {\n",
              "      background-color: #434B5C;\n",
              "      box-shadow: 0px 1px 3px 1px rgba(0, 0, 0, 0.15);\n",
              "      filter: drop-shadow(0px 1px 2px rgba(0, 0, 0, 0.3));\n",
              "      fill: #FFFFFF;\n",
              "    }\n",
              "  </style>\n",
              "\n",
              "      <script>\n",
              "        const buttonEl =\n",
              "          document.querySelector('#df-e86ea3ac-49cf-4f53-8bfc-ad958daec3f5 button.colab-df-convert');\n",
              "        buttonEl.style.display =\n",
              "          google.colab.kernel.accessAllowed ? 'block' : 'none';\n",
              "\n",
              "        async function convertToInteractive(key) {\n",
              "          const element = document.querySelector('#df-e86ea3ac-49cf-4f53-8bfc-ad958daec3f5');\n",
              "          const dataTable =\n",
              "            await google.colab.kernel.invokeFunction('convertToInteractive',\n",
              "                                                     [key], {});\n",
              "          if (!dataTable) return;\n",
              "\n",
              "          const docLinkHtml = 'Like what you see? Visit the ' +\n",
              "            '<a target=\"_blank\" href=https://colab.research.google.com/notebooks/data_table.ipynb>data table notebook</a>'\n",
              "            + ' to learn more about interactive tables.';\n",
              "          element.innerHTML = '';\n",
              "          dataTable['output_type'] = 'display_data';\n",
              "          await google.colab.output.renderOutput(dataTable, element);\n",
              "          const docLink = document.createElement('div');\n",
              "          docLink.innerHTML = docLinkHtml;\n",
              "          element.appendChild(docLink);\n",
              "        }\n",
              "      </script>\n",
              "    </div>\n",
              "  </div>\n",
              "  "
            ]
          },
          "metadata": {},
          "execution_count": 32
        }
      ]
    },
    {
      "cell_type": "markdown",
      "source": [
        "#Ejercicio Nº 2\n",
        "Escribir un programa que reciba un diccionario con los ingresos\n",
        "mensuales de los clientes de una empresa, y devuelva una serie\n",
        "con el ingreso mínimo, máximo y media.\n",
        "El resultado final debe ser una serie con los estadísticos."
      ],
      "metadata": {
        "id": "an02CqG9xa7Z"
      }
    },
    {
      "cell_type": "code",
      "source": [
        "import pandas as pd\n",
        "\n",
        "def generarEstadisticas(ingresos):\n",
        "    serieIngreso = pd.Series(ingresos)\n",
        "    estadisticos = pd.Series([serieIngreso.min(), serieIngreso.max(), serieIngreso.mean()], index=['Min', 'Max', 'Media'])\n",
        "    return estadisticos\n",
        "\n",
        "ingresosEnero = {\n",
        "    'Cliente1':9, 'Cliente2':6.5,\n",
        "    'Cliente3':19, 'Cliente4':5\n",
        "}\n",
        "\n",
        "ingresosFebrero = {\n",
        "    'Cliente1':9, 'Cliente2':6.5,\n",
        "    'Cliente3':19, 'Cliente4':58,\n",
        "    'Cliente3':25, 'Cliente4':53\n",
        "}\n",
        "print('ESTADISTICAS ENERO')\n",
        "print(generarEstadisticas(ingresosEnero))\n",
        "print('ESTADISTICAS FEBRERO')\n",
        "print(generarEstadisticas(ingresosFebrero))"
      ],
      "metadata": {
        "colab": {
          "base_uri": "https://localhost:8080/"
        },
        "id": "F3IRkClRq8_F",
        "outputId": "d0195355-ef8e-41fb-d762-36baa6368601"
      },
      "execution_count": null,
      "outputs": [
        {
          "output_type": "stream",
          "name": "stdout",
          "text": [
            "ESTADISTICAS ENERO\n",
            "Min       5.000\n",
            "Max      19.000\n",
            "Media     9.875\n",
            "dtype: float64\n",
            "ESTADISTICAS FEBRERO\n",
            "Min       6.500\n",
            "Max      53.000\n",
            "Media    23.375\n",
            "dtype: float64\n"
          ]
        }
      ]
    },
    {
      "cell_type": "markdown",
      "source": [
        "#Ejercicio Nº 3\n",
        "Escribir programa que genere y muestre por pantalla un DataFrame\n",
        "con los datos de la siguiente tabla:\n",
        "\n",
        "Mes Ventas Gastos\n",
        "Enero 30500 22000\n",
        "Febrero 35600 23450\n",
        "Marzo 28300 18100\n",
        "Abril 33900 35700\n",
        "Mayo 42500 32450\n",
        "\n",
        "A continuación, generar nuevas columna:\n",
        "1. Columna 1 = Gasto/Ventas*100.\n",
        "2. Columna 2 = Si Ventas>= 30000, imprimir “Meta Superada”,\n",
        "caso contrario imprimir “Meta no Superada”.\n",
        "3. Columna 3 = Si Gasto>Ventas, calcular el sobre gasto.\n",
        "4. Obtener el total de las ventas de los últimos 3 meses\n",
        "5. Obtener el total de gastos de febrero a abril"
      ],
      "metadata": {
        "id": "ntlpZeOO6OgU"
      }
    },
    {
      "cell_type": "code",
      "source": [
        "import pandas as pd\n",
        "import numpy as np\n",
        "\n",
        "datos = {\n",
        "    'Mes': ['Enero', 'Febrero', 'Marzo', 'Abril', 'Mayo'],\n",
        "    'Ventas':[30500,35600,28300,33900,42500],\n",
        "    'Gastos':[2200,23450,18100,35700,32450]\n",
        "    }\n",
        "df = pd.DataFrame(datos) \n",
        "\n",
        "\n",
        "df['Columna1'] = df['Gastos'] / df['Ventas'] * 100\n",
        "df['Columna2'] = np.where(df['Ventas'] >= 30000, 'Meta Superada', 'Meta no Superada')\n",
        "\n",
        "conditions = [\n",
        "    (df['Gastos'] > df['Ventas'])\n",
        "    ]\n",
        "choices = [df['Ventas'] - df['Gastos']]\n",
        "df['Columna3'] = np.select(conditions,choices, default=0)\n",
        "totalVentas = np.sum(df['Ventas'].tail(3))\n",
        "totalGastos = np.sum(df['Gastos'][1] + df['Gastos'][2]+ df['Gastos'][3])\n",
        "\n",
        "df\n"
      ],
      "metadata": {
        "colab": {
          "base_uri": "https://localhost:8080/",
          "height": 206
        },
        "id": "xqmWEa9w54r4",
        "outputId": "d9ddb70f-5809-4b4a-da0a-70c99f68e8da"
      },
      "execution_count": null,
      "outputs": [
        {
          "output_type": "execute_result",
          "data": {
            "text/plain": [
              "       Mes  Ventas  Gastos    Columna1          Columna2  Columna3\n",
              "0    Enero   30500    2200    7.213115     Meta Superada         0\n",
              "1  Febrero   35600   23450   65.870787     Meta Superada         0\n",
              "2    Marzo   28300   18100   63.957597  Meta no Superada         0\n",
              "3    Abril   33900   35700  105.309735     Meta Superada     -1800\n",
              "4     Mayo   42500   32450   76.352941     Meta Superada         0"
            ],
            "text/html": [
              "\n",
              "  <div id=\"df-e606f158-1f2b-4ad3-8c1d-314552bdc767\">\n",
              "    <div class=\"colab-df-container\">\n",
              "      <div>\n",
              "<style scoped>\n",
              "    .dataframe tbody tr th:only-of-type {\n",
              "        vertical-align: middle;\n",
              "    }\n",
              "\n",
              "    .dataframe tbody tr th {\n",
              "        vertical-align: top;\n",
              "    }\n",
              "\n",
              "    .dataframe thead th {\n",
              "        text-align: right;\n",
              "    }\n",
              "</style>\n",
              "<table border=\"1\" class=\"dataframe\">\n",
              "  <thead>\n",
              "    <tr style=\"text-align: right;\">\n",
              "      <th></th>\n",
              "      <th>Mes</th>\n",
              "      <th>Ventas</th>\n",
              "      <th>Gastos</th>\n",
              "      <th>Columna1</th>\n",
              "      <th>Columna2</th>\n",
              "      <th>Columna3</th>\n",
              "    </tr>\n",
              "  </thead>\n",
              "  <tbody>\n",
              "    <tr>\n",
              "      <th>0</th>\n",
              "      <td>Enero</td>\n",
              "      <td>30500</td>\n",
              "      <td>2200</td>\n",
              "      <td>7.213115</td>\n",
              "      <td>Meta Superada</td>\n",
              "      <td>0</td>\n",
              "    </tr>\n",
              "    <tr>\n",
              "      <th>1</th>\n",
              "      <td>Febrero</td>\n",
              "      <td>35600</td>\n",
              "      <td>23450</td>\n",
              "      <td>65.870787</td>\n",
              "      <td>Meta Superada</td>\n",
              "      <td>0</td>\n",
              "    </tr>\n",
              "    <tr>\n",
              "      <th>2</th>\n",
              "      <td>Marzo</td>\n",
              "      <td>28300</td>\n",
              "      <td>18100</td>\n",
              "      <td>63.957597</td>\n",
              "      <td>Meta no Superada</td>\n",
              "      <td>0</td>\n",
              "    </tr>\n",
              "    <tr>\n",
              "      <th>3</th>\n",
              "      <td>Abril</td>\n",
              "      <td>33900</td>\n",
              "      <td>35700</td>\n",
              "      <td>105.309735</td>\n",
              "      <td>Meta Superada</td>\n",
              "      <td>-1800</td>\n",
              "    </tr>\n",
              "    <tr>\n",
              "      <th>4</th>\n",
              "      <td>Mayo</td>\n",
              "      <td>42500</td>\n",
              "      <td>32450</td>\n",
              "      <td>76.352941</td>\n",
              "      <td>Meta Superada</td>\n",
              "      <td>0</td>\n",
              "    </tr>\n",
              "  </tbody>\n",
              "</table>\n",
              "</div>\n",
              "      <button class=\"colab-df-convert\" onclick=\"convertToInteractive('df-e606f158-1f2b-4ad3-8c1d-314552bdc767')\"\n",
              "              title=\"Convert this dataframe to an interactive table.\"\n",
              "              style=\"display:none;\">\n",
              "        \n",
              "  <svg xmlns=\"http://www.w3.org/2000/svg\" height=\"24px\"viewBox=\"0 0 24 24\"\n",
              "       width=\"24px\">\n",
              "    <path d=\"M0 0h24v24H0V0z\" fill=\"none\"/>\n",
              "    <path d=\"M18.56 5.44l.94 2.06.94-2.06 2.06-.94-2.06-.94-.94-2.06-.94 2.06-2.06.94zm-11 1L8.5 8.5l.94-2.06 2.06-.94-2.06-.94L8.5 2.5l-.94 2.06-2.06.94zm10 10l.94 2.06.94-2.06 2.06-.94-2.06-.94-.94-2.06-.94 2.06-2.06.94z\"/><path d=\"M17.41 7.96l-1.37-1.37c-.4-.4-.92-.59-1.43-.59-.52 0-1.04.2-1.43.59L10.3 9.45l-7.72 7.72c-.78.78-.78 2.05 0 2.83L4 21.41c.39.39.9.59 1.41.59.51 0 1.02-.2 1.41-.59l7.78-7.78 2.81-2.81c.8-.78.8-2.07 0-2.86zM5.41 20L4 18.59l7.72-7.72 1.47 1.35L5.41 20z\"/>\n",
              "  </svg>\n",
              "      </button>\n",
              "      \n",
              "  <style>\n",
              "    .colab-df-container {\n",
              "      display:flex;\n",
              "      flex-wrap:wrap;\n",
              "      gap: 12px;\n",
              "    }\n",
              "\n",
              "    .colab-df-convert {\n",
              "      background-color: #E8F0FE;\n",
              "      border: none;\n",
              "      border-radius: 50%;\n",
              "      cursor: pointer;\n",
              "      display: none;\n",
              "      fill: #1967D2;\n",
              "      height: 32px;\n",
              "      padding: 0 0 0 0;\n",
              "      width: 32px;\n",
              "    }\n",
              "\n",
              "    .colab-df-convert:hover {\n",
              "      background-color: #E2EBFA;\n",
              "      box-shadow: 0px 1px 2px rgba(60, 64, 67, 0.3), 0px 1px 3px 1px rgba(60, 64, 67, 0.15);\n",
              "      fill: #174EA6;\n",
              "    }\n",
              "\n",
              "    [theme=dark] .colab-df-convert {\n",
              "      background-color: #3B4455;\n",
              "      fill: #D2E3FC;\n",
              "    }\n",
              "\n",
              "    [theme=dark] .colab-df-convert:hover {\n",
              "      background-color: #434B5C;\n",
              "      box-shadow: 0px 1px 3px 1px rgba(0, 0, 0, 0.15);\n",
              "      filter: drop-shadow(0px 1px 2px rgba(0, 0, 0, 0.3));\n",
              "      fill: #FFFFFF;\n",
              "    }\n",
              "  </style>\n",
              "\n",
              "      <script>\n",
              "        const buttonEl =\n",
              "          document.querySelector('#df-e606f158-1f2b-4ad3-8c1d-314552bdc767 button.colab-df-convert');\n",
              "        buttonEl.style.display =\n",
              "          google.colab.kernel.accessAllowed ? 'block' : 'none';\n",
              "\n",
              "        async function convertToInteractive(key) {\n",
              "          const element = document.querySelector('#df-e606f158-1f2b-4ad3-8c1d-314552bdc767');\n",
              "          const dataTable =\n",
              "            await google.colab.kernel.invokeFunction('convertToInteractive',\n",
              "                                                     [key], {});\n",
              "          if (!dataTable) return;\n",
              "\n",
              "          const docLinkHtml = 'Like what you see? Visit the ' +\n",
              "            '<a target=\"_blank\" href=https://colab.research.google.com/notebooks/data_table.ipynb>data table notebook</a>'\n",
              "            + ' to learn more about interactive tables.';\n",
              "          element.innerHTML = '';\n",
              "          dataTable['output_type'] = 'display_data';\n",
              "          await google.colab.output.renderOutput(dataTable, element);\n",
              "          const docLink = document.createElement('div');\n",
              "          docLink.innerHTML = docLinkHtml;\n",
              "          element.appendChild(docLink);\n",
              "        }\n",
              "      </script>\n",
              "    </div>\n",
              "  </div>\n",
              "  "
            ]
          },
          "metadata": {},
          "execution_count": 240
        }
      ]
    },
    {
      "cell_type": "code",
      "source": [
        "print('TOTAL VENTAS ULTIMOS TRES MESES:')\n",
        "print(totalVentas)\n",
        "print('TOTAL GASTOS DE FEBRERO A ABRIL:')\n",
        "print(totalGastos)\n"
      ],
      "metadata": {
        "colab": {
          "base_uri": "https://localhost:8080/"
        },
        "id": "_lo4FZGmOggq",
        "outputId": "e5724856-5af5-41ee-9ff5-cc0375e28a47"
      },
      "execution_count": null,
      "outputs": [
        {
          "output_type": "stream",
          "name": "stdout",
          "text": [
            "TOTAL VENTAS ULTIMOS TRES MESES:\n",
            "104700\n",
            "TOTAL GASTOS DE FEBRERO A ABRIL:\n",
            "77250\n"
          ]
        }
      ]
    },
    {
      "cell_type": "markdown",
      "source": [
        "#Ejercicio Nº 4\n",
        "Con el siguiente fichero Data - Riesgos.csv contiene información\n",
        "de riesgo de clientes de un banco. Escribir un programa con los\n",
        "siguientes requisitos:\n",
        "1. Generar un DataFrame con los datos del fichero.\n",
        "2. Mostrar por pantalla las dimensiones del DataFrame, el\n",
        "número de datos que contiene, los nombres de sus columnas\n",
        "y filas, los tipos de datos de las columnas, mostrar las 10\n",
        "primeras filas y las 10 últimas filas, verificar si tiene datos\n",
        "perdidos/nulos.\n",
        "3. Extraer las 100 primeras filas y almacenarlas en un\n",
        "contenedor."
      ],
      "metadata": {
        "id": "CMPUlA5_QDdJ"
      }
    },
    {
      "cell_type": "code",
      "source": [
        ""
      ],
      "metadata": {
        "id": "TWk5UDTKQ88I"
      },
      "execution_count": null,
      "outputs": []
    }
  ]
}